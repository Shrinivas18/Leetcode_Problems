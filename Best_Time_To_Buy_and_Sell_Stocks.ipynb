{
  "nbformat": 4,
  "nbformat_minor": 0,
  "metadata": {
    "colab": {
      "provenance": [],
      "authorship_tag": "ABX9TyNmBxqdsbqLxOqQaU0VEE59",
      "include_colab_link": true
    },
    "kernelspec": {
      "name": "python3",
      "display_name": "Python 3"
    },
    "language_info": {
      "name": "python"
    }
  },
  "cells": [
    {
      "cell_type": "markdown",
      "metadata": {
        "id": "view-in-github",
        "colab_type": "text"
      },
      "source": [
        "<a href=\"https://colab.research.google.com/github/Shrinivas18/Leetcode_Problems/blob/main/Best_Time_To_Buy_and_Sell_Stocks.ipynb\" target=\"_parent\"><img src=\"https://colab.research.google.com/assets/colab-badge.svg\" alt=\"Open In Colab\"/></a>"
      ]
    },
    {
      "cell_type": "markdown",
      "source": [
        "**Best Time to Buy and Sell Stock**\n",
        "\n",
        "\n",
        "You are given an array prices where prices[i] is the price of a given stock on the ith day.\n",
        "\n",
        "You want to maximize your profit by choosing a single day to buy one stock and choosing a different day in the future to sell that stock.\n",
        "\n",
        "Return the maximum profit you can achieve from this transaction. If you cannot achieve any profit, return 0.\n",
        "\n",
        " \n",
        "\n",
        "Example 1:\n",
        "\n",
        "Input: prices = [7,1,5,3,6,4]\n",
        "Output: 5\n",
        "Explanation: Buy on day 2 (price = 1) and sell on day 5 (price = 6), profit = 6-1 = 5.\n",
        "Note that buying on day 2 and selling on day 1 is not allowed because you must buy before you sell.\n",
        "Example 2:\n",
        "\n",
        "Input: prices = [7,6,4,3,1]\n",
        "Output: 0\n",
        "Explanation: In this case, no transactions are done and the max profit = 0.\n",
        " \n",
        "\n",
        "Constraints:\n",
        "\n",
        "1 <= prices.length <= 105\n",
        "0 <= prices[i] <= 104"
      ],
      "metadata": {
        "id": "O-eKXuZ2iqIO"
      }
    },
    {
      "cell_type": "code",
      "source": [
        "class Solution:\n",
        "    def maxProfit(self, prices: List[int]) -> int:\n",
        "        # O(n) solution - using two pointers l,r\n",
        "        l, r = 0, 1\n",
        "        max_profit = 0\n",
        "        # while right pointer is in bounds\n",
        "        while r < len(prices):\n",
        "            # if transaction is profitable\n",
        "            if prices[l] < prices[r]: # price on left is lower\n",
        "                profit = prices[r] - prices[l] # calculate profit\n",
        "                max_profit = max(max_profit, profit) # update max_profit if required\n",
        "            else:\n",
        "                l = r # move l to r as new low price was found\n",
        "            r += 1 # increment r as we can only check prices after the current r\n",
        "        return max_profit\n",
        "                "
      ],
      "metadata": {
        "id": "b5h2c9qqllSo"
      },
      "execution_count": 18,
      "outputs": []
    }
  ]
}