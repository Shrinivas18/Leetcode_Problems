{
  "nbformat": 4,
  "nbformat_minor": 0,
  "metadata": {
    "colab": {
      "provenance": [],
      "authorship_tag": "ABX9TyOs48Y62+YqKsC6Iiy4DzdU",
      "include_colab_link": true
    },
    "kernelspec": {
      "name": "python3",
      "display_name": "Python 3"
    },
    "language_info": {
      "name": "python"
    }
  },
  "cells": [
    {
      "cell_type": "markdown",
      "metadata": {
        "id": "view-in-github",
        "colab_type": "text"
      },
      "source": [
        "<a href=\"https://colab.research.google.com/github/Shrinivas18/Leetcode_Problems/blob/main/Product_Of_Array_Except_Self.ipynb\" target=\"_parent\"><img src=\"https://colab.research.google.com/assets/colab-badge.svg\" alt=\"Open In Colab\"/></a>"
      ]
    },
    {
      "cell_type": "markdown",
      "source": [
        "**Product of Array Except Self**\n",
        "\n",
        "\n",
        "Given an integer array nums, return an array answer such that answer[i] is equal to the product of all the elements of nums except nums[i].\n",
        "\n",
        "The product of any prefix or suffix of nums is guaranteed to fit in a 32-bit integer.\n",
        "\n",
        "You must write an algorithm that runs in O(n) time and without using the division operation.\n",
        "\n",
        " \n",
        "\n",
        "Example 1:\n",
        "\n",
        "Input: nums = [1,2,3,4]\n",
        "Output: [24,12,8,6]\n",
        "Example 2:\n",
        "\n",
        "Input: nums = [-1,1,0,-3,3]\n",
        "Output: [0,0,9,0,0]\n",
        " \n",
        "\n",
        "Constraints:\n",
        "\n",
        "2 <= nums.length <= 105\n",
        "-30 <= nums[i] <= 30\n",
        "The product of any prefix or suffix of nums is guaranteed to fit in a 32-bit integer.\n",
        " \n",
        "\n",
        "Follow up: Can you solve the problem in O(1) extra space complexity? (The output array does not count as extra space for space complexity analysis.)"
      ],
      "metadata": {
        "id": "DjwpiEvMQQ76"
      }
    },
    {
      "cell_type": "code",
      "source": [
        "class Solution:\n",
        "    def productExceptSelf(self, nums: List[int]) -> List[int]:\n",
        "        # initialize a result array of the same length\n",
        "        result = [1] * len(nums)\n",
        "        \n",
        "        # we traverse the result array twice, 1 forward pass + 1 backward pass\n",
        "        # forward pass\n",
        "        prefix = 1 # keep track of the cumulative product of prefixes\n",
        "        for i in range(len(result)):\n",
        "            # multiply current result num in result by current prefix\n",
        "            result[i] *= prefix\n",
        "            # multiply prefix by current num\n",
        "            prefix *= nums[i]\n",
        "        # backward pass # keep track of cumulative product of postfixes\n",
        "        postfix = 1\n",
        "        for i in reversed(range(len(result))):\n",
        "            # similar operations to above\n",
        "            result[i] *= postfix\n",
        "            postfix *= nums[i]\n",
        "\n",
        "        return result"
      ],
      "metadata": {
        "id": "3g6u_nMPSfXH"
      },
      "execution_count": null,
      "outputs": []
    }
  ]
}