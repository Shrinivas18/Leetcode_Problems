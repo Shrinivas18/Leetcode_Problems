{
  "nbformat": 4,
  "nbformat_minor": 0,
  "metadata": {
    "colab": {
      "provenance": [],
      "authorship_tag": "ABX9TyMxooRz6zcjd4Eea7gaet+s",
      "include_colab_link": true
    },
    "kernelspec": {
      "name": "python3",
      "display_name": "Python 3"
    },
    "language_info": {
      "name": "python"
    }
  },
  "cells": [
    {
      "cell_type": "markdown",
      "metadata": {
        "id": "view-in-github",
        "colab_type": "text"
      },
      "source": [
        "<a href=\"https://colab.research.google.com/github/Shrinivas18/Leetcode_Problems/blob/main/number_of_steps_to_reduce_a_number_to_zero.ipynb\" target=\"_parent\"><img src=\"https://colab.research.google.com/assets/colab-badge.svg\" alt=\"Open In Colab\"/></a>"
      ]
    },
    {
      "cell_type": "markdown",
      "source": [
        "**Number of steps to reduce a number to zero.**"
      ],
      "metadata": {
        "id": "O-eKXuZ2iqIO"
      }
    },
    {
      "cell_type": "code",
      "source": [
        "class Solution:\n",
        "    def numberOfSteps(self, num: int) -> int:\n",
        "        num_steps = 0\n",
        "        while num != 0:\n",
        "            if num % 2 == 0:\n",
        "                num = num /2\n",
        "            else:\n",
        "                num -= 1\n",
        "            num_steps += 1\n",
        "        return num_steps"
      ],
      "metadata": {
        "id": "b5h2c9qqllSo"
      },
      "execution_count": null,
      "outputs": []
    }
  ]
}