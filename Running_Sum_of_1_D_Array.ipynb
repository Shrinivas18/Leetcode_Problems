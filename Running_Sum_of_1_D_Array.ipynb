{
  "nbformat": 4,
  "nbformat_minor": 0,
  "metadata": {
    "colab": {
      "provenance": [],
      "authorship_tag": "ABX9TyNt750Sb/Vcr6x2+SfkgxPF",
      "include_colab_link": true
    },
    "kernelspec": {
      "name": "python3",
      "display_name": "Python 3"
    },
    "language_info": {
      "name": "python"
    }
  },
  "cells": [
    {
      "cell_type": "markdown",
      "metadata": {
        "id": "view-in-github",
        "colab_type": "text"
      },
      "source": [
        "<a href=\"https://colab.research.google.com/github/Shrinivas18/Leetcode_Problems/blob/main/Running_Sum_of_1_D_Array.ipynb\" target=\"_parent\"><img src=\"https://colab.research.google.com/assets/colab-badge.svg\" alt=\"Open In Colab\"/></a>"
      ]
    },
    {
      "cell_type": "markdown",
      "source": [
        "**Running Sum of 1d Array**\n",
        "\n",
        "\n",
        "Given an array nums. We define a running sum of an array as runningSum[i] = sum(nums[0]…nums[i]).\n",
        "\n",
        "Return the running sum of nums.\n",
        "\n",
        "\n",
        "Example 1:\n",
        "\n",
        "Input: nums = [1,2,3,4]\n",
        "\n",
        "Output: [1,3,6,10]\n",
        "\n",
        "Explanation: Running sum is obtained as follows: [1, 1+2, 1+2+3, 1+2+3+4].\n",
        "\n",
        "\n",
        "Example 2:\n",
        "\n",
        "Input: nums = [1,1,1,1,1]\n",
        "\n",
        "Output: [1,2,3,4,5]\n",
        "\n",
        "Explanation: Running sum is obtained as follows: [1, 1+1, 1+1+1, 1+1+1+1, 1+1+1+1+1].\n",
        "\n",
        "\n",
        "Example 3:\n",
        "\n",
        "Input: nums = [3,1,2,10,1]\n",
        "\n",
        "Output: [3,4,6,16,17]\n",
        " \n",
        "\n",
        "Constraints:\n",
        "\n",
        "1 <= nums.length <= 1000\n",
        "-10^6 <= nums[i] <= 10^6"
      ],
      "metadata": {
        "id": "O-eKXuZ2iqIO"
      }
    },
    {
      "cell_type": "code",
      "source": [
        "class Solution:\n",
        "    def runningSum(self, nums: List[int]) -> List[int]:\n",
        "        running_sum = []\n",
        "        for i in range(len(nums)):\n",
        "            if i == 0:\n",
        "                running_sum.append(nums[i])\n",
        "                continue\n",
        "            running_sum.append(nums[i] + running_sum[i-1])\n",
        "        return running_sum\n",
        "            "
      ],
      "metadata": {
        "id": "b5h2c9qqllSo"
      },
      "execution_count": null,
      "outputs": []
    }
  ]
}