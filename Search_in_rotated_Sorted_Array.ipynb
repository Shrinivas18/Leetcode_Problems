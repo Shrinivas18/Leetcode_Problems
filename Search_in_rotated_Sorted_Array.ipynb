{
  "nbformat": 4,
  "nbformat_minor": 0,
  "metadata": {
    "colab": {
      "provenance": [],
      "authorship_tag": "ABX9TyPHaiWNjz/1vB3yBRG6Grbk",
      "include_colab_link": true
    },
    "kernelspec": {
      "name": "python3",
      "display_name": "Python 3"
    },
    "language_info": {
      "name": "python"
    }
  },
  "cells": [
    {
      "cell_type": "markdown",
      "metadata": {
        "id": "view-in-github",
        "colab_type": "text"
      },
      "source": [
        "<a href=\"https://colab.research.google.com/github/Shrinivas18/Leetcode_Problems/blob/main/Search_in_rotated_Sorted_Array.ipynb\" target=\"_parent\"><img src=\"https://colab.research.google.com/assets/colab-badge.svg\" alt=\"Open In Colab\"/></a>"
      ]
    },
    {
      "cell_type": "markdown",
      "source": [
        "**Search in Rotated Sorted Array**\n",
        "\n",
        "\n",
        "There is an integer array nums sorted in ascending order (with distinct values).\n",
        "\n",
        "Prior to being passed to your function, nums is possibly rotated at an unknown pivot index k (1 <= k < nums.length) such that the resulting array is [nums[k], nums[k+1], ..., nums[n-1], nums[0], nums[1], ..., nums[k-1]] (0-indexed). For example, [0,1,2,4,5,6,7] might be rotated at pivot index 3 and become [4,5,6,7,0,1,2].\n",
        "\n",
        "Given the array nums after the possible rotation and an integer target, return the index of target if it is in nums, or -1 if it is not in nums.\n",
        "\n",
        "You must write an algorithm with O(log n) runtime complexity.\n",
        "\n",
        " \n",
        "\n",
        "Example 1:\n",
        "\n",
        "Input: nums = [4,5,6,7,0,1,2], target = 0\n",
        "Output: 4\n",
        "Example 2:\n",
        "\n",
        "Input: nums = [4,5,6,7,0,1,2], target = 3\n",
        "Output: -1\n",
        "Example 3:\n",
        "\n",
        "Input: nums = [1], target = 0\n",
        "Output: -1\n",
        " \n",
        "\n",
        "Constraints:\n",
        "\n",
        "1 <= nums.length <= 5000\n",
        "-104 <= nums[i] <= 104\n",
        "All values of nums are unique.\n",
        "nums is an ascending array that is possibly rotated.\n",
        "-104 <= target <= 104"
      ],
      "metadata": {
        "id": "DjwpiEvMQQ76"
      }
    },
    {
      "cell_type": "code",
      "source": [
        "class Solution:\n",
        "    def isAnagram(self, s: str, t: str) -> bool:\n",
        "        # there can be two sorted arrays, left and right - separated by the pivot\n",
        "# in [4,5,6,7,0,1,2]\n",
        "# [4,5,6,7] is the left sorted array\n",
        "# [0,1,2] is the right sorted array\n",
        "class Solution:\n",
        "    def search(self, nums: List[int], target: int) -> int:\n",
        "        # define left and right pointers:\n",
        "        left, right = 0, len(nums) - 1\n",
        "        \n",
        "        while left <= right:\n",
        "            mid = (left + right) // 2\n",
        "            \n",
        "            # target found in the middle\n",
        "            if target == nums[mid]:\n",
        "                return mid\n",
        "            \n",
        "            # left sorted array\n",
        "            if nums[left] <= nums[mid]:\n",
        "                # within left sorted array, target > mid element or smaller than left edge\n",
        "                if target > nums[mid] or target < nums[left]:\n",
        "                    left = mid + 1\n",
        "                else:\n",
        "                    right = mid - 1\n",
        "            # right sorted array\n",
        "            else:\n",
        "                # within right sorted array, target < mid element or greater than right edge\n",
        "                if target < nums[mid] or target > nums[right]:\n",
        "                    right = mid - 1\n",
        "                else:\n",
        "                    left = mid + 1\n",
        "        # target not found\n",
        "        return -1"
      ],
      "metadata": {
        "id": "3g6u_nMPSfXH"
      },
      "execution_count": null,
      "outputs": []
    }
  ]
}