{
  "nbformat": 4,
  "nbformat_minor": 0,
  "metadata": {
    "colab": {
      "provenance": [],
      "authorship_tag": "ABX9TyMGMivIIMtAdE/F+Yrejv/c",
      "include_colab_link": true
    },
    "kernelspec": {
      "name": "python3",
      "display_name": "Python 3"
    },
    "language_info": {
      "name": "python"
    }
  },
  "cells": [
    {
      "cell_type": "markdown",
      "metadata": {
        "id": "view-in-github",
        "colab_type": "text"
      },
      "source": [
        "<a href=\"https://colab.research.google.com/github/Shrinivas18/Leetcode_Problems/blob/main/Richest_Customer_Wealth.ipynb\" target=\"_parent\"><img src=\"https://colab.research.google.com/assets/colab-badge.svg\" alt=\"Open In Colab\"/></a>"
      ]
    },
    {
      "cell_type": "code",
      "source": [
        "class Solution:\n",
        "    def maximumWealth(self, accounts: List[List[int]]) -> int:\n",
        "        maximum_wealth = - float(\"inf\")\n",
        "        for i in range(len(accounts)):\n",
        "            customer_wealth = 0\n",
        "            for j in range(len(accounts[i])):\n",
        "                customer_wealth += accounts[i][j]\n",
        "            maximum_wealth = max(customer_wealth, maximum_wealth)\n",
        "        return maximum_wealth\n",
        "                "
      ],
      "metadata": {
        "id": "b5h2c9qqllSo"
      },
      "execution_count": null,
      "outputs": []
    }
  ]
}