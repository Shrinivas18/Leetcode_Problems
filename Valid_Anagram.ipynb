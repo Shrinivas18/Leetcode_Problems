{
  "nbformat": 4,
  "nbformat_minor": 0,
  "metadata": {
    "colab": {
      "provenance": [],
      "authorship_tag": "ABX9TyPK0oRnd2mBxIsIEIu/E8PP",
      "include_colab_link": true
    },
    "kernelspec": {
      "name": "python3",
      "display_name": "Python 3"
    },
    "language_info": {
      "name": "python"
    }
  },
  "cells": [
    {
      "cell_type": "markdown",
      "metadata": {
        "id": "view-in-github",
        "colab_type": "text"
      },
      "source": [
        "<a href=\"https://colab.research.google.com/github/Shrinivas18/Leetcode_Problems/blob/main/Valid_Anagram.ipynb\" target=\"_parent\"><img src=\"https://colab.research.google.com/assets/colab-badge.svg\" alt=\"Open In Colab\"/></a>"
      ]
    },
    {
      "cell_type": "markdown",
      "source": [
        "**Valid Anagram**\n",
        "\n",
        "\n",
        "Given two strings s and t, return true if t is an anagram of s, and false otherwise.\n",
        "\n",
        "An Anagram is a word or phrase formed by rearranging the letters of a different word or phrase, typically using all the original letters exactly once.\n",
        "\n",
        " \n",
        "\n",
        "Example 1:\n",
        "\n",
        "Input: s = \"anagram\", t = \"nagaram\"\n",
        "Output: true\n",
        "Example 2:\n",
        "\n",
        "Input: s = \"rat\", t = \"car\"\n",
        "Output: false"
      ],
      "metadata": {
        "id": "DjwpiEvMQQ76"
      }
    },
    {
      "cell_type": "code",
      "source": [
        "class Solution:\n",
        "    def isAnagram(self, s: str, t: str) -> bool:\n",
        "        \n",
        "        if len(s) != len(t):\n",
        "            return False\n",
        "        \n",
        "        s_char_2_count = {}\n",
        "        t_char_2_count = {}\n",
        "        for i in range(len(s)):\n",
        "            s_char_2_count[s[i]] = 1 + s_char_2_count.get(s[i], 0) \n",
        "            t_char_2_count[t[i]] = 1 + t_char_2_count.get(t[i], 0) \n",
        "        \n",
        "        for c in s_char_2_count:\n",
        "            if s_char_2_count[c] != t_char_2_count.get(c, 0):\n",
        "                return False\n",
        "        \n",
        "        return True"
      ],
      "metadata": {
        "id": "3g6u_nMPSfXH"
      },
      "execution_count": null,
      "outputs": []
    }
  ]
}