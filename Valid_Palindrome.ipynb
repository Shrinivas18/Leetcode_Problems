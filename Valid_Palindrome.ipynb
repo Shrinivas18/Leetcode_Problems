{
  "nbformat": 4,
  "nbformat_minor": 0,
  "metadata": {
    "colab": {
      "provenance": [],
      "authorship_tag": "ABX9TyOjKtdxPkkI8pXw0t5XOD1c",
      "include_colab_link": true
    },
    "kernelspec": {
      "name": "python3",
      "display_name": "Python 3"
    },
    "language_info": {
      "name": "python"
    }
  },
  "cells": [
    {
      "cell_type": "markdown",
      "metadata": {
        "id": "view-in-github",
        "colab_type": "text"
      },
      "source": [
        "<a href=\"https://colab.research.google.com/github/Shrinivas18/Leetcode_Problems/blob/main/Valid_Palindrome.ipynb\" target=\"_parent\"><img src=\"https://colab.research.google.com/assets/colab-badge.svg\" alt=\"Open In Colab\"/></a>"
      ]
    },
    {
      "cell_type": "markdown",
      "source": [
        "**Valid Palindrome**\n",
        "\n",
        "\n",
        "A phrase is a palindrome if, after converting all uppercase letters into lowercase letters and removing all non-alphanumeric characters, it reads the same forward and backward. Alphanumeric characters include letters and numbers.\n",
        "\n",
        "Given a string s, return true if it is a palindrome, or false otherwise.\n",
        " \n",
        "\n",
        "Example 1:\n",
        "\n",
        "Input: s = \"A man, a plan, a canal: Panama\"\n",
        "Output: true\n",
        "Explanation: \"amanaplanacanalpanama\" is a palindrome.\n",
        "Example 2:\n",
        "\n",
        "Input: s = \"race a car\"\n",
        "Output: false\n",
        "Explanation: \"raceacar\" is not a palindrome.\n",
        "Example 3:\n",
        "\n",
        "Input: s = \" \"\n",
        "Output: true\n",
        "Explanation: s is an empty string \"\" after removing non-alphanumeric characters.\n",
        "Since an empty string reads the same forward and backward, it is a palindrome.\n",
        " \n",
        "\n",
        "Constraints:\n",
        "\n",
        "1 <= s.length <= 2 * 105\n",
        "s consists only of printable ASCII characters."
      ],
      "metadata": {
        "id": "O-eKXuZ2iqIO"
      }
    },
    {
      "cell_type": "code",
      "source": [
        "class Solution:\n",
        "    def isPalindrome(self, s: str) -> bool:\n",
        "        l = 0\n",
        "        r = len(s) - 1\n",
        "        while l < r:\n",
        "            if not self.is_alphaNum(s[l]):\n",
        "                l += 1\n",
        "            elif not self.is_alphaNum(s[r]):\n",
        "                r -= 1\n",
        "            elif s[l].lower() == s[r].lower():\n",
        "                l += 1\n",
        "                r -= 1\n",
        "            else:\n",
        "                return False\n",
        "        return True\n",
        "    \n",
        "    def is_alphaNum(self, c):\n",
        "        \"Returns if a given character is alphanumeric or not\"\n",
        "        return ((ord('A') <= ord(c) <= ord('Z')) or\n",
        "                (ord('a') <= ord(c) <= ord('z')) or\n",
        "                (ord('0') <= ord(c) <= ord('9')))"
      ],
      "metadata": {
        "id": "b5h2c9qqllSo"
      },
      "execution_count": null,
      "outputs": []
    },
    {
      "cell_type": "code",
      "source": [],
      "metadata": {
        "id": "9GTs4JMdgZ9o"
      },
      "execution_count": null,
      "outputs": []
    }
  ]
}