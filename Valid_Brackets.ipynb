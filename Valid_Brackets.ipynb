{
  "nbformat": 4,
  "nbformat_minor": 0,
  "metadata": {
    "colab": {
      "provenance": [],
      "authorship_tag": "ABX9TyP4Hmh4b592PTP4U8/Zd7JG",
      "include_colab_link": true
    },
    "kernelspec": {
      "name": "python3",
      "display_name": "Python 3"
    },
    "language_info": {
      "name": "python"
    }
  },
  "cells": [
    {
      "cell_type": "markdown",
      "metadata": {
        "id": "view-in-github",
        "colab_type": "text"
      },
      "source": [
        "<a href=\"https://colab.research.google.com/github/Shrinivas18/Leetcode_Problems/blob/main/Valid_Parenthesis.ipynb\" target=\"_parent\"><img src=\"https://colab.research.google.com/assets/colab-badge.svg\" alt=\"Open In Colab\"/></a>"
      ]
    },
    {
      "cell_type": "markdown",
      "source": [
        "**Valid Parentheses**\n",
        "\n",
        "\n",
        "Given a string s containing just the characters '(', ')', '{', '}', '[' and ']', determine if the input string is valid.\n",
        "\n",
        "An input string is valid if:\n",
        "\n",
        "Open brackets must be closed by the same type of brackets.\n",
        "Open brackets must be closed in the correct order.\n",
        "Every close bracket has a corresponding open bracket of the same type.\n",
        " \n",
        "\n",
        "Example 1:\n",
        "\n",
        "Input: s = \"()\"\n",
        "Output: true\n",
        "Example 2:\n",
        "\n",
        "Input: s = \"()[]{}\"\n",
        "Output: true\n",
        "Example 3:\n",
        "\n",
        "Input: s = \"(]\"\n",
        "Output: false\n",
        " \n",
        "\n",
        "Constraints:\n",
        "\n",
        "1 <= s.length <= 104\n",
        "s consists of parentheses only '()[]{}'."
      ],
      "metadata": {
        "id": "DjwpiEvMQQ76"
      }
    },
    {
      "cell_type": "code",
      "source": [
        "class Solution:\n",
        "    def isValid(self, s: str) -> bool:\n",
        "        close_2_open = {\n",
        "            \")\": \"(\",\n",
        "            \"}\": \"{\",\n",
        "            \"]\": \"[\"\n",
        "        }\n",
        "        \n",
        "        # stack to track open parantheses\n",
        "        open_char_stack = []\n",
        "        \n",
        "        for c in s:\n",
        "            # if c is a closing parantheses\n",
        "            if c in close_2_open:\n",
        "                # if there is no open parantheses in the stack, return Fa;se\n",
        "                if len(open_char_stack) == 0:\n",
        "                    return False\n",
        "                # pop the char at the top of the stack\n",
        "                open_char = open_char_stack.pop()\n",
        "                # the closing paran does not match opening paren, return False\n",
        "                if open_char != close_2_open[c]:\n",
        "                    return False\n",
        "            # it is an open paran character\n",
        "            else:\n",
        "                # add to the top of the stack\n",
        "                open_char_stack.append(c)\n",
        "        if len(open_char_stack) > 0:\n",
        "            return False\n",
        "        return True\n",
        "                \n",
        "        "
      ],
      "metadata": {
        "id": "swNRC1f3Qrdg"
      },
      "execution_count": null,
      "outputs": []
    }
  ]
}
