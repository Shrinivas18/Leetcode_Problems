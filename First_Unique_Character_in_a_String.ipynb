{
  "nbformat": 4,
  "nbformat_minor": 0,
  "metadata": {
    "colab": {
      "provenance": [],
      "authorship_tag": "ABX9TyMBtBmpMxAIMJ1bHdIWdw3Z",
      "include_colab_link": true
    },
    "kernelspec": {
      "name": "python3",
      "display_name": "Python 3"
    },
    "language_info": {
      "name": "python"
    }
  },
  "cells": [
    {
      "cell_type": "markdown",
      "metadata": {
        "id": "view-in-github",
        "colab_type": "text"
      },
      "source": [
        "<a href=\"https://colab.research.google.com/github/Shrinivas18/Leetcode_Problems/blob/main/First_Unique_Character_in_a_String.ipynb\" target=\"_parent\"><img src=\"https://colab.research.google.com/assets/colab-badge.svg\" alt=\"Open In Colab\"/></a>"
      ]
    },
    {
      "cell_type": "markdown",
      "source": [
        "**First Unique Character in a String**\n",
        "\n",
        "\n",
        "Given a string s, find the first non-repeating character in it and return its index. If it does not exist, return -1.\n",
        "\n",
        " \n",
        "\n",
        "Example 1:\n",
        "\n",
        "Input: s = \"leetcode\"\n",
        "Output: 0\n",
        "Example 2:\n",
        "\n",
        "Input: s = \"loveleetcode\"\n",
        "Output: 2\n",
        "Example 3:\n",
        "\n",
        "Input: s = \"aabb\"\n",
        "Output: -1\n",
        " \n",
        "\n",
        "Constraints:\n",
        "\n",
        "1 <= s.length <= 105\n",
        "s consists of only lowercase English letters."
      ],
      "metadata": {
        "id": "DjwpiEvMQQ76"
      }
    },
    {
      "cell_type": "code",
      "source": [
        "from collections import defaultdict\n",
        "\n",
        "class Solution:\n",
        "    def firstUniqChar(self, s: str) -> int:\n",
        "        char_2_count = defaultdict(int)\n",
        "        for char in s:\n",
        "            char_2_count[char] += 1\n",
        "        for i in range(len(s)):\n",
        "            if char_2_count[s[i]] == 1:\n",
        "                return i\n",
        "        return -1"
      ],
      "metadata": {
        "id": "3g6u_nMPSfXH"
      },
      "execution_count": null,
      "outputs": []
    }
  ]
}