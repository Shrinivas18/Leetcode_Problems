{
  "nbformat": 4,
  "nbformat_minor": 0,
  "metadata": {
    "colab": {
      "provenance": [],
      "authorship_tag": "ABX9TyN/meGDXSCZ//yIDTnTDrS0",
      "include_colab_link": true
    },
    "kernelspec": {
      "name": "python3",
      "display_name": "Python 3"
    },
    "language_info": {
      "name": "python"
    }
  },
  "cells": [
    {
      "cell_type": "markdown",
      "metadata": {
        "id": "view-in-github",
        "colab_type": "text"
      },
      "source": [
        "<a href=\"https://colab.research.google.com/github/Shrinivas18/Leetcode_Problems/blob/main/Fizz_Buzz.ipynb\" target=\"_parent\"><img src=\"https://colab.research.google.com/assets/colab-badge.svg\" alt=\"Open In Colab\"/></a>"
      ]
    },
    {
      "cell_type": "markdown",
      "source": [
        "**Maximum Subarray**\n",
        "\n",
        "\n",
        "Given an integer array nums, find the contiguous subarray (containing at least one number) which has the largest sum and return its sum.\n",
        "\n",
        "A subarray is a contiguous part of an array.\n",
        "\n",
        "\n",
        "Example 1:\n",
        "\n",
        "Input: nums = [-2,1,-3,4,-1,2,1,-5,4]\n",
        "Output: 6\n",
        "Explanation: [4,-1,2,1] has the largest sum = 6.\n",
        "Example 2:\n",
        "\n",
        "Input: nums = [1]\n",
        "Output: 1\n",
        "Example 3:\n",
        "\n",
        "Input: nums = [5,4,-1,7,8]\n",
        "Output: 23\n",
        " \n",
        "\n",
        "Constraints:\n",
        "\n",
        "1 <= nums.length <= 105\n",
        "-104 <= nums[i] <= 104\n",
        " \n",
        "\n",
        "Follow up: If you have figured out the O(n) solution, try coding another solution using the divide and conquer approach, which is more subtle."
      ],
      "metadata": {
        "id": "OfMJPNJy9Oa_"
      }
    },
    {
      "cell_type": "code",
      "source": [
        "class Solution:\n",
        "    def maxSubArray(self, nums: List[int]) -> int:\n",
        "        \n",
        "        # check edge case of empty array\n",
        "        if len(nums) < 0:\n",
        "            return 0\n",
        "        \n",
        "        # initialize\n",
        "        running_sum = 0\n",
        "        max_sum = nums[0]\n",
        "        \n",
        "        # loop over array of nums\n",
        "        for num in nums:\n",
        "            # reset running_sum if the current running sum of array is below 0\n",
        "            if running_sum < 0:\n",
        "                running_sum = 0\n",
        "            # add num to running_sum\n",
        "            running_sum += num\n",
        "            # update max_sum if needed\n",
        "            max_sum = max(running_sum, max_sum)\n",
        "        # end of loop, return the max_sum\n",
        "        return max_sum\n",
        "        "
      ],
      "metadata": {
        "id": "3g6u_nMPSfXH"
      },
      "execution_count": null,
      "outputs": []
    }
  ]
}