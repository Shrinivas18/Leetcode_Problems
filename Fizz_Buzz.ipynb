{
  "nbformat": 4,
  "nbformat_minor": 0,
  "metadata": {
    "colab": {
      "provenance": [],
      "authorship_tag": "ABX9TyO4EJzQraUhO03d2PjG6Qr4",
      "include_colab_link": true
    },
    "kernelspec": {
      "name": "python3",
      "display_name": "Python 3"
    },
    "language_info": {
      "name": "python"
    }
  },
  "cells": [
    {
      "cell_type": "markdown",
      "metadata": {
        "id": "view-in-github",
        "colab_type": "text"
      },
      "source": [
        "<a href=\"https://colab.research.google.com/github/Shrinivas18/Leetcode_Problems/blob/main/Fizz_Buzz.ipynb\" target=\"_parent\"><img src=\"https://colab.research.google.com/assets/colab-badge.svg\" alt=\"Open In Colab\"/></a>"
      ]
    },
    {
      "cell_type": "code",
      "source": [
        "class Solution:\n",
        "    def fizzBuzz(self, n: int) -> List[str]:\n",
        "        answer = []\n",
        "        for i in range(1, n+1):\n",
        "            if i % 3 == 0 and i % 5 == 0:\n",
        "                answer.append(\"FizzBuzz\")\n",
        "            elif i % 3 == 0:\n",
        "                answer.append(\"Fizz\")\n",
        "            elif i % 5 == 0:\n",
        "                answer.append(\"Buzz\")\n",
        "            else:\n",
        "                answer.append(str(i))\n",
        "        return answer            "
      ],
      "metadata": {
        "id": "3g6u_nMPSfXH"
      },
      "execution_count": null,
      "outputs": []
    }
  ]
}