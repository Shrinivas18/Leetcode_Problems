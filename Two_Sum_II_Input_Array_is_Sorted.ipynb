{
  "nbformat": 4,
  "nbformat_minor": 0,
  "metadata": {
    "colab": {
      "provenance": [],
      "authorship_tag": "ABX9TyM3oRSyHdCIkmj5/2v8lzG+",
      "include_colab_link": true
    },
    "kernelspec": {
      "name": "python3",
      "display_name": "Python 3"
    },
    "language_info": {
      "name": "python"
    }
  },
  "cells": [
    {
      "cell_type": "markdown",
      "metadata": {
        "id": "view-in-github",
        "colab_type": "text"
      },
      "source": [
        "<a href=\"https://colab.research.google.com/github/Shrinivas18/Leetcode_Problems/blob/main/Two_Sum_II_Input_Array_is_Sorted.ipynb\" target=\"_parent\"><img src=\"https://colab.research.google.com/assets/colab-badge.svg\" alt=\"Open In Colab\"/></a>"
      ]
    },
    {
      "cell_type": "markdown",
      "source": [
        "**Two Sum II - Input Array Is Sorted**\n",
        "\n",
        "\n",
        "Given a 1-indexed array of integers numbers that is already sorted in non-decreasing order, find two numbers such that they add up to a specific target number. Let these two numbers be numbers[index1] and numbers[index2] where 1 <= index1 < index2 <= numbers.length.\n",
        "\n",
        "Return the indices of the two numbers, index1 and index2, added by one as an integer array [index1, index2] of length 2.\n",
        "\n",
        "The tests are generated such that there is exactly one solution. You may not use the same element twice.\n",
        "\n",
        "Your solution must use only constant extra space.\n",
        "\n",
        " \n",
        "Example 1:\n",
        "\n",
        "Input: numbers = [2,7,11,15], target = 9\n",
        "\n",
        "Output: [1,2]\n",
        "\n",
        "Explanation: The sum of 2 and 7 is 9. Therefore, index1 = 1, index2 = 2. We return [1, 2].\n",
        "\n",
        "\n",
        "Example 2:\n",
        "\n",
        "Input: numbers = [2,3,4], target = 6\n",
        "\n",
        "Output: [1,3]\n",
        "\n",
        "Explanation: The sum of 2 and 4 is 6. Therefore index1 = 1, index2 = 3. We return [1, 3].\n",
        "\n",
        "\n",
        "Example 3:\n",
        "\n",
        "Input: numbers = [-1,0], target = -1\n",
        "\n",
        "Output: [1,2]\n",
        "\n",
        "Explanation: The sum of -1 and 0 is -1. Therefore index1 = 1, index2 = 2. We return [1, 2].\n",
        " \n",
        "\n",
        "Constraints:\n",
        "\n",
        "2 <= numbers.length <= 3 * 104\n",
        "\n",
        "-1000 <= numbers[i] <= 1000\n",
        "\n",
        "numbers is sorted in non-decreasing order.\n",
        "\n",
        "-1000 <= target <= 1000\n",
        "\n",
        "The tests are generated such that there is exactly one solution."
      ],
      "metadata": {
        "id": "O-eKXuZ2iqIO"
      }
    },
    {
      "cell_type": "code",
      "source": [
        "class Solution:\n",
        "    def twoSum(self, numbers: List[int], target: int) -> List[int]:\n",
        "        # initialize left and right pointers\n",
        "        left_index = 0\n",
        "        right_index = len(numbers) - 1\n",
        "        while left_index < right_index:\n",
        "            two_sum = numbers[left_index] + numbers[right_index]\n",
        "            if two_sum == target:\n",
        "                return [left_index + 1, right_index + 1]\n",
        "            if two_sum < target:\n",
        "                left_index += 1\n",
        "            else:\n",
        "                right_index -= 1\n",
        "        "
      ],
      "metadata": {
        "id": "b5h2c9qqllSo"
      },
      "execution_count": null,
      "outputs": []
    }
  ]
}